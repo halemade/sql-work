{
 "cells": [
  {
   "cell_type": "markdown",
   "id": "10d85ae2-6ef9-4bb2-a083-bd0e42f8a58b",
   "metadata": {},
   "source": [
    "# Case Study #1: Danny's Diner"
   ]
  },
  {
   "cell_type": "markdown",
   "id": "95d5350e-bf96-4dc7-be3d-a118d01abf16",
   "metadata": {},
   "source": [
    "![image](dannys_diner.png)"
   ]
  },
  {
   "cell_type": "code",
   "execution_count": 38,
   "id": "be3d7000-2f17-40fd-9b13-8613bc292cf1",
   "metadata": {},
   "outputs": [],
   "source": [
    "#import necessary tools\n",
    "import sqlite3\n",
    "#create database and cursor\n",
    "conn = sqlite3.connect('diner2.db')\n",
    "cur = conn.cursor()\n",
    "db_file = 'diner2.db'"
   ]
  },
  {
   "cell_type": "code",
   "execution_count": 39,
   "id": "28cb963b-7d07-410b-bc33-f28df8ca1e0f",
   "metadata": {},
   "outputs": [],
   "source": [
    "#dictionaries to create data tables\n",
    "sales = [{'customer_id':'A','order_date':'2021-01-01','product_id':1},\n",
    "         {'customer_id':'A','order_date':'2021-01-01','product_id':2},\n",
    "         {'customer_id':'A','order_date':'2021-01-07','product_id':2},\n",
    "         {'customer_id':'A','order_date':'2021-01-10','product_id':3},\n",
    "         {'customer_id':'A','order_date':'2021-01-11','product_id':3},\n",
    "         {'customer_id':'A','order_date':'2021-01-11','product_id':3},\n",
    "         {'customer_id':'B','order_date':'2021-01-01','product_id':2},\n",
    "         {'customer_id':'B','order_date':'2021-01-02','product_id':2},\n",
    "         {'customer_id':'B','order_date':'2021-01-04','product_id':1},\n",
    "         {'customer_id':'B','order_date':'2021-01-11','product_id':1},\n",
    "         {'customer_id':'B','order_date':'2021-01-16','product_id':3},\n",
    "         {'customer_id':'B','order_date':'2021-02-01','product_id':3},\n",
    "         {'customer_id':'C','order_date':'2021-01-01','product_id':3},\n",
    "         {'customer_id':'C','order_date':'2021-01-01','product_id':3},\n",
    "         {'customer_id':'C','order_date':'2021-02-07','product_id':3}]\n",
    "\n",
    "menu = [{'product_id': 1,'product_name':'sushi','price':10},\n",
    "       {'product_id': 2,'product_name':'curry','price':15},\n",
    "       {'product_id': 3,'product_name':'ramen','price':12}]\n",
    "\n",
    "members = [{'customer_id':'A','join_date':'2021-01-07'},\n",
    "          {'customer_id':'B','join_date':'2021-01-09'}]"
   ]
  },
  {
   "cell_type": "code",
   "execution_count": 40,
   "id": "c702322f-fa0d-47d0-8173-2b1a5cf5e56f",
   "metadata": {},
   "outputs": [],
   "source": [
    "#establish tables and data types\n",
    "tables = {\n",
    "    'sales': {\n",
    "        'customer_id': 'TEXT KEY',\n",
    "        'order_date': 'TEXT',\n",
    "        'product_id': 'INTEGER',\n",
    "        },\n",
    "    'menu': {\n",
    "        'product_id': 'TEXT KEY',\n",
    "        'product_name': 'TEXT',\n",
    "        'price': 'INTEGER',\n",
    "        },\n",
    "    'members': {\n",
    "        'customer_id': 'TEXT KEY',\n",
    "        'join_date': 'TEXT',\n",
    "        }\n",
    "}\n",
    "\n",
    "#iterate through tables and add them to db\n",
    "for table in tables.keys():\n",
    "    fieldset = []\n",
    "    for col, definition in tables[table].items():\n",
    "        fieldset.append(\"'{0}' {1}\".format(col, definition))\n",
    "\n",
    "    if len(fieldset) > 0:\n",
    "        query = \"CREATE TABLE IF NOT EXISTS {0} ({1})\".format(table, \", \".join(fieldset))\n",
    "\n",
    "        cur.execute(query)"
   ]
  },
  {
   "cell_type": "code",
   "execution_count": 41,
   "id": "76d298ab-94e0-47ee-b9bd-7db71ac6da8b",
   "metadata": {},
   "outputs": [
    {
     "data": {
      "text/plain": [
       "<sqlite3.Cursor at 0x7f995b28e340>"
      ]
     },
     "execution_count": 41,
     "metadata": {},
     "output_type": "execute_result"
    }
   ],
   "source": [
    "# add first value to menu table manually\n",
    "# for i in range(0,len(menu)):    \n",
    "cur.execute('''INSERT INTO menu (product_id, product_name, price) \n",
    "                  VALUES (1, 'sushi', 10);\n",
    "            ''')"
   ]
  },
  {
   "cell_type": "code",
   "execution_count": 42,
   "id": "ed36766b-e3ec-4c0f-8a1e-b2e0f2393781",
   "metadata": {},
   "outputs": [],
   "source": [
    "#loop through the rest\n",
    "for i in range(1,len(menu)):\n",
    "    cur.execute('''INSERT INTO menu (product_id, product_name, price)\n",
    "                    VALUES ('{}','{}','{}')'''.format(menu[i]['product_id'],menu[i]['product_name'],menu[i]['price']))"
   ]
  },
  {
   "cell_type": "code",
   "execution_count": 43,
   "id": "1a908b0e-7be8-4617-b0e4-307b31a8a577",
   "metadata": {},
   "outputs": [
    {
     "data": {
      "text/plain": [
       "[('1', 'sushi', 10), ('2', 'curry', 15), ('3', 'ramen', 12)]"
      ]
     },
     "execution_count": 43,
     "metadata": {},
     "output_type": "execute_result"
    }
   ],
   "source": [
    "#did it work?\n",
    "cur.execute(\"\"\"SELECT * FROM menu;\"\"\").fetchall()\n",
    "#YES!/\n"
   ]
  },
  {
   "cell_type": "code",
   "execution_count": 44,
   "id": "f373a737-54eb-4420-8aed-cafa7053bd4b",
   "metadata": {},
   "outputs": [],
   "source": [
    "for i in range(0,len(sales)):\n",
    "    cur.execute('''INSERT INTO sales (customer_id, order_date, product_id)\n",
    "                    VALUES ('{}','{}','{}')'''.format(sales[i]['customer_id'],sales[i]['order_date'],sales[i]['product_id']))"
   ]
  },
  {
   "cell_type": "code",
   "execution_count": 45,
   "id": "5d961ce9-a305-4d72-86dd-6a2dbaeddff5",
   "metadata": {},
   "outputs": [
    {
     "data": {
      "text/plain": [
       "[('A', '2021-01-01', 1),\n",
       " ('A', '2021-01-01', 2),\n",
       " ('A', '2021-01-07', 2),\n",
       " ('A', '2021-01-10', 3),\n",
       " ('A', '2021-01-11', 3),\n",
       " ('A', '2021-01-11', 3),\n",
       " ('B', '2021-01-01', 2),\n",
       " ('B', '2021-01-02', 2),\n",
       " ('B', '2021-01-04', 1),\n",
       " ('B', '2021-01-11', 1),\n",
       " ('B', '2021-01-16', 3),\n",
       " ('B', '2021-02-01', 3),\n",
       " ('C', '2021-01-01', 3),\n",
       " ('C', '2021-01-01', 3),\n",
       " ('C', '2021-02-07', 3)]"
      ]
     },
     "execution_count": 45,
     "metadata": {},
     "output_type": "execute_result"
    }
   ],
   "source": [
    "cur.execute('''SELECT * FROM sales;''''').fetchall()"
   ]
  },
  {
   "cell_type": "code",
   "execution_count": 46,
   "id": "2ef643af-8f57-4f21-9ea3-20191cb3b3d1",
   "metadata": {},
   "outputs": [],
   "source": [
    "for i in range(0,len(members)):\n",
    "    cur.execute('''INSERT INTO members (customer_id, join_date)\n",
    "                    VALUES ('{}','{}')'''''.format(members[i]['customer_id'],members[i]['join_date']))"
   ]
  },
  {
   "cell_type": "code",
   "execution_count": 47,
   "id": "7d355f42-52e5-4f60-bd18-fcd27f08378e",
   "metadata": {},
   "outputs": [
    {
     "data": {
      "text/plain": [
       "[('A', '2021-01-07'), ('B', '2021-01-09')]"
      ]
     },
     "execution_count": 47,
     "metadata": {},
     "output_type": "execute_result"
    }
   ],
   "source": [
    "cur.execute('''SELECT * FROM members;''''').fetchall()"
   ]
  },
  {
   "cell_type": "markdown",
   "id": "f8d6c2f4-f4c2-43a6-aa1f-b66ab5cd5aa8",
   "metadata": {},
   "source": [
    "### Database is Built, Time for the Questions!"
   ]
  },
  {
   "cell_type": "markdown",
   "id": "dad5ec48-3463-4ccf-a6d0-e76b23d3cc1e",
   "metadata": {},
   "source": [
    "**Each of the following case study questions can be answered using a single SQL statement:**\n",
    "\n",
    "What is the total amount each customer spent at the restaurant?<br>\n",
    "How many days has each customer visited the restaurant?<br>\n",
    "What was the first item from the menu purchased by each customer?<br>\n",
    "What is the most purchased item on the menu and how many times was it purchased by all customers?<br>\n",
    "Which item was the most popular for each customer?<br>\n",
    "Which item was purchased first by the customer after they became a member?<br>\n",
    "Which item was purchased just before the customer became a member?<br>\n",
    "What is the total items and amount spent for each member before they became a member?<br>\n",
    "If each $1 spent equates to 10 points and sushi has a 2x points multiplier - how many points would each customer have?<br>\n",
    "In the first week after a customer joins the program (including their join date) they earn 2x points on all items, not just sushi - how many points do customer A and B have at the end of January?"
   ]
  },
  {
   "cell_type": "code",
   "execution_count": null,
   "id": "d5b1f5b8-5730-49e9-8e29-d6a64e5a414f",
   "metadata": {},
   "outputs": [],
   "source": []
  }
 ],
 "metadata": {
  "kernelspec": {
   "display_name": "Python 3 (ipykernel)",
   "language": "python",
   "name": "python3"
  },
  "language_info": {
   "codemirror_mode": {
    "name": "ipython",
    "version": 3
   },
   "file_extension": ".py",
   "mimetype": "text/x-python",
   "name": "python",
   "nbconvert_exporter": "python",
   "pygments_lexer": "ipython3",
   "version": "3.7.9"
  }
 },
 "nbformat": 4,
 "nbformat_minor": 5
}
